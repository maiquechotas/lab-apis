{
 "cells": [
  {
   "cell_type": "markdown",
   "id": "27422808-8a16-4be1-897f-57b379af8991",
   "metadata": {},
   "source": [
    "# Lab | APIs"
   ]
  },
  {
   "cell_type": "markdown",
   "id": "50f30950-3e31-499a-92ea-1535422c570b",
   "metadata": {},
   "source": [
    "In order to use the `Spotify` API (`SpotiPy`), create an account in `Spotify` and follow [these](https://developer.spotify.com/documentation/general/guides/app-settings/) steps. "
   ]
  },
  {
   "cell_type": "markdown",
   "id": "a0479b95-6ca5-415e-b894-1f5cb17b055b",
   "metadata": {},
   "source": [
    "## Authentication and initializing the API"
   ]
  },
  {
   "cell_type": "markdown",
   "id": "47d71611-c617-4972-a0c3-7090c24b399c",
   "metadata": {},
   "source": [
    "Save your client ID and your client secret in your preferred way, and read it or load it into the following variables:"
   ]
  },
  {
   "cell_type": "code",
   "execution_count": null,
   "id": "67db085a",
   "metadata": {},
   "outputs": [],
   "source": [
    "#I saved it in a .env file and add the .env to a .gitignore for safety"
   ]
  },
  {
   "cell_type": "code",
   "execution_count": 1,
   "id": "ea44c82a-5c07-4dbc-beb2-bba2601bb75e",
   "metadata": {},
   "outputs": [],
   "source": [
    "#CLIENT_ID = \"<introduce your client id>\"\n",
    "#CLIENT_SECRET = \"<introduce your client secret>\""
   ]
  },
  {
   "cell_type": "code",
   "execution_count": null,
   "id": "319cfd4e-f6fb-4419-80e0-e3983cd25e43",
   "metadata": {},
   "outputs": [],
   "source": [
    "#CLIENT_ID = \"4109b2d9f5014671863bb2df1d1fbdd3\"\n",
    "#CLIENT_SECRET = \"5cb719fae80c4191a9c0b288f51bfe50\""
   ]
  },
  {
   "cell_type": "code",
   "execution_count": 7,
   "id": "535a90ba",
   "metadata": {},
   "outputs": [],
   "source": [
    "#!pip install python-dotenv #i already installed it\n",
    "\n",
    "from dotenv import load_dotenv\n",
    "import os\n",
    "\n",
    "load_dotenv()\n",
    "client_id = os.getenv(\"CLIENT_ID\")\n",
    "client_secret = os.getenv(\"CLIENT_SECRET\")\n"
   ]
  },
  {
   "cell_type": "code",
   "execution_count": null,
   "id": "268848e3",
   "metadata": {},
   "outputs": [],
   "source": [
    "#print(client_id)\n",
    "#print(client_secret)"
   ]
  },
  {
   "cell_type": "code",
   "execution_count": null,
   "id": "04e12954-fd70-4311-88a5-fb7e2c29799c",
   "metadata": {},
   "outputs": [],
   "source": [
    "# If you havent done so, install the spotipy wrapper\n",
    "!pip install spotipy"
   ]
  },
  {
   "cell_type": "markdown",
   "id": "dc0e86da-8846-4207-84c3-cd20b9e01d0e",
   "metadata": {},
   "source": [
    "Once you have done it, we will start initializing the API."
   ]
  },
  {
   "cell_type": "code",
   "execution_count": 43,
   "id": "03034bc6-9858-412a-83b7-18abdc345d7e",
   "metadata": {},
   "outputs": [],
   "source": [
    "import spotipy\n",
    "from spotipy.oauth2 import SpotifyClientCredentials\n",
    "\n",
    "#Initialize SpotiPy with user credentials\n",
    "sp = spotipy.Spotify(auth_manager=SpotifyClientCredentials(client_id, client_secret))\n"
   ]
  },
  {
   "cell_type": "markdown",
   "id": "8fed9628-08d7-4290-a4be-5527696b01c5",
   "metadata": {},
   "source": [
    "## Using the search method"
   ]
  },
  {
   "cell_type": "markdown",
   "id": "6575a3c6-f25a-4905-b1f3-c0efd50dcc1e",
   "metadata": {},
   "source": [
    "Now, let's use the search method by introducing a \"query\". For example, let's try searching for \"Lady Gaga\":"
   ]
  },
  {
   "cell_type": "code",
   "execution_count": null,
   "id": "7772a1e0-9692-4d04-a590-76111a272d8d",
   "metadata": {
    "tags": []
   },
   "outputs": [],
   "source": [
    "results = sp.search(q='Lady Gaga', limit=50)\n",
    "results"
   ]
  },
  {
   "cell_type": "code",
   "execution_count": null,
   "id": "edc14c95-474b-4e2a-aea3-bdfd0a205546",
   "metadata": {},
   "outputs": [],
   "source": [
    "results.keys() # We can see that we only have tracks"
   ]
  },
  {
   "cell_type": "code",
   "execution_count": null,
   "id": "ad8ef934-1dbb-4008-ac8e-f5c29823fe6a",
   "metadata": {},
   "outputs": [],
   "source": [
    "results[\"tracks\"].keys() # Let's check the values"
   ]
  },
  {
   "cell_type": "code",
   "execution_count": null,
   "id": "004b7814-4dd5-408e-b7ba-1da87f9250cb",
   "metadata": {},
   "outputs": [],
   "source": [
    "results[\"tracks\"][\"href\"] # Query we have searched "
   ]
  },
  {
   "cell_type": "code",
   "execution_count": null,
   "id": "7285cedd-fbe1-47cf-98d5-a7fdc3e5c8b8",
   "metadata": {
    "scrolled": true,
    "tags": []
   },
   "outputs": [],
   "source": [
    "results[\"tracks\"][\"items\"] #items (actual tracks)"
   ]
  },
  {
   "cell_type": "code",
   "execution_count": null,
   "id": "529fff56-47d3-4d78-8ff5-9530fe290d1d",
   "metadata": {},
   "outputs": [],
   "source": [
    "results[\"tracks\"][\"limit\"]#Limit we have chosen"
   ]
  },
  {
   "cell_type": "code",
   "execution_count": null,
   "id": "92c64c57-3bd2-4d42-bbd1-84a040f1e02a",
   "metadata": {},
   "outputs": [],
   "source": [
    "results[\"tracks\"][\"next\"] #link to the next page (next 50 tracks)"
   ]
  },
  {
   "cell_type": "code",
   "execution_count": null,
   "id": "f5ccdf79-5d9e-40de-adb9-2cc1e5b7c74a",
   "metadata": {
    "tags": []
   },
   "outputs": [],
   "source": [
    "results[\"tracks\"][\"offset\"] # Actual offset (starting point)"
   ]
  },
  {
   "cell_type": "code",
   "execution_count": 23,
   "id": "356730c1-60a2-4ea8-bd2c-e0522bab8a4d",
   "metadata": {},
   "outputs": [],
   "source": [
    "results[\"tracks\"][\"previous\"] #Previous search"
   ]
  },
  {
   "cell_type": "code",
   "execution_count": null,
   "id": "7c44c8fd-63ea-45ba-94bd-5c5e8e1458b3",
   "metadata": {},
   "outputs": [],
   "source": [
    "results[\"tracks\"][\"total\"] # Number of matches"
   ]
  },
  {
   "cell_type": "markdown",
   "id": "7a127c64-3274-4ecc-aa0f-83ae34af4655",
   "metadata": {},
   "source": [
    "## Exploring the tracks"
   ]
  },
  {
   "cell_type": "code",
   "execution_count": null,
   "id": "6c3541a2-0fd2-41e0-9b27-60a7dc36c4cb",
   "metadata": {
    "scrolled": true,
    "tags": []
   },
   "outputs": [],
   "source": [
    "results[\"tracks\"][\"items\"][0] # Explore the first song"
   ]
  },
  {
   "cell_type": "code",
   "execution_count": null,
   "id": "f2c35eb2-3ea6-4329-9f29-7c062f466638",
   "metadata": {},
   "outputs": [],
   "source": [
    "results[\"tracks\"][\"items\"][0].keys() # We will focus on album, artists, id, name, popularity, type and uri"
   ]
  },
  {
   "cell_type": "code",
   "execution_count": null,
   "id": "889ca3c3-b0c8-4037-96fb-6add847f537f",
   "metadata": {},
   "outputs": [],
   "source": [
    "# Track artists\n",
    "results[\"tracks\"][\"items\"][0][\"artists\"] "
   ]
  },
  {
   "cell_type": "code",
   "execution_count": null,
   "id": "a9c6a0b2-cea7-48ff-8c51-179d15388aa2",
   "metadata": {},
   "outputs": [],
   "source": [
    "# Track artists names\n",
    "for artist in results[\"tracks\"][\"items\"][0][\"artists\"]:\n",
    "    print(artist[\"name\"])"
   ]
  },
  {
   "cell_type": "code",
   "execution_count": null,
   "id": "6a826e9c-d2e7-4537-a82c-3dc3a2b80b9f",
   "metadata": {},
   "outputs": [],
   "source": [
    "# Track ID\n",
    "results[\"tracks\"][\"items\"][0][\"id\"] "
   ]
  },
  {
   "cell_type": "code",
   "execution_count": null,
   "id": "a5bd871b-6087-4680-819c-1a1d8ba879bc",
   "metadata": {},
   "outputs": [],
   "source": [
    "# Track name\n",
    "results[\"tracks\"][\"items\"][0][\"name\"] "
   ]
  },
  {
   "cell_type": "code",
   "execution_count": null,
   "id": "812661f1-29db-452f-a719-cdfbe95ba9f6",
   "metadata": {},
   "outputs": [],
   "source": [
    "# Popularity index\n",
    "results[\"tracks\"][\"items\"][1][\"popularity\"] "
   ]
  },
  {
   "cell_type": "markdown",
   "id": "0e81c762-e6c5-424e-a4eb-12ab45dffb9f",
   "metadata": {},
   "source": [
    "Spotify songs are identified by either a \"url\", a \"uri\", or an \"id\". \n",
    "\n",
    "- The `id` is an alphanumeric code, and it's the nuclear part of the identifier.\n",
    "\n",
    "- The `uri` contains \"spotify:track\" before the id. An uri is useful because it can be searched manually in the Spotify app.\n",
    "\n",
    "- The `url` is a link to the song on the Spotify web player.\n"
   ]
  },
  {
   "cell_type": "code",
   "execution_count": null,
   "id": "8bcdccfc-dde9-4f4b-8af5-3caa335b89b5",
   "metadata": {},
   "outputs": [],
   "source": [
    "results[\"tracks\"][\"items\"][0][\"uri\"]"
   ]
  },
  {
   "cell_type": "markdown",
   "id": "71c3c9c1-4ec2-42bf-a243-b21105ae1699",
   "metadata": {},
   "source": [
    "## Exercise 1: Discovering New Music through Your Favorite Artists\n",
    "\n",
    "**Objective:** \n",
    "Uncover new music by exploring the top tracks of your favorite artists and their related artists.\n",
    "\n",
    "**Instructions:**\n",
    "\n",
    "1. **List Your Favorite Artists**:\n",
    "    - Make a list of your three favorite artists and store it in a variable named `artists`.\n",
    "    - Example: `artists = [\"Los Fabulosos Cadillacs\", \"Manu Chao\", \"Muchachito Bombo Infierno\"]`.\n",
    "\n",
    "2. **Fetch Top Tracks**:\n",
    "    - Write a function named `get_top_tracks`.\n",
    "    - This function should accept an artist's name and return the name of the first 5 top tracks by that artist.\n",
    "    - Use the function `get_top_tracks` to get the first 5 top tracks for each artist in your `artists` list and store the results in a new list named `top_tracks_list`.\n",
    "\n",
    "3. **Discover Related Artists**:\n",
    "    - Write a function named `find_related_artists`.\n",
    "    - This function should accept an artist's name and return the names of the first 5 artists related to the provided artist.\n",
    "    - Store the results in a list named `related_artists_list`.\n",
    "\n",
    "**Challenge:** \n",
    "Combine the above steps to create a playlist that includes the top tracks of your favorite artists and the top tracks of the artists related to them."
   ]
  },
  {
   "cell_type": "markdown",
   "id": "0c442378-e26f-47c8-b4f1-b4fa07089935",
   "metadata": {},
   "source": [
    "**Hint Section for 3. **Discover Related Artists**:**\n",
    "\n",
    "1. **Getting Artist ID**:\n",
    "    - Remember that every artist on Spotify has a unique identifier: their `id`. To get the related artists, you first need to fetch the ID of the given artist.\n",
    "    - Consider using the `sp.search` method to query the artist's name. The method requires a `q` parameter, which is your query (in this case, the artist's name). It also has a `limit` parameter, which specifies the number of tracks it returns. In this case, 1 track is enough, since we just want the artist ID. \n",
    "    - Each track in the results has an associated 'artists' field. This field is a list containing details about all artists involved in that track.\n",
    "   - For most tracks, especially those by a single artist, this list will contain one artist. From this artist's details, you can extract the 'id' field, which is the unique identifier for that artist on Spotify.\n",
    "\n",
    "\n",
    "3. **Fetching Related Artists**:\n",
    "    - Once you have the artist's ID, you can use another SpotiPy method to fetch related artists. Think about which SpotiPy method allows you to get related artists using an artist's ID. Here is the documentation link: https://spotipy.readthedocs.io/en/2.22.1/. \n",
    "    - This method will return a list of related artists. You'll need to extract the relevant details (artist names) from this list.\n",
    "\n",
    "4. **Iterating for Multiple Artists**:\n",
    "    - Once you have a function that returns related artists names for one artist, you can use a list comprehension to apply this function to a list of artist names.\n",
    "\n",
    "5. **Testing**:\n",
    "    - Always test your function with one artist name first. Once you're confident it works, then apply it to the entire list.\n",
    "\n",
    "Remember, the key is to break the problem down into manageable steps. Use the SpotiPy documentation as a resource to understand available methods and their return structures."
   ]
  },
  {
   "cell_type": "code",
   "execution_count": null,
   "id": "29694252-f217-454d-8881-681b2b6eeb1e",
   "metadata": {},
   "outputs": [],
   "source": [
    "# 1. **List Your Favorite Artists**:\n",
    "#   - Make a list of your three favorite artists and store it in a variable named `artists`.\n",
    "#    - Example: `artists = [\"Los Fabulosos Cadillacs\", \"Manu Chao\", \"Muchachito Bombo Infierno\"]`.\n",
    "\n",
    "artists = [\"Los Fabulosos Cadillacs\", \"Manu Chao\", \"Muchachito Bombo Infierno\"]\n",
    "artists"
   ]
  },
  {
   "cell_type": "code",
   "execution_count": null,
   "id": "d5160ece",
   "metadata": {},
   "outputs": [],
   "source": [
    "# 2. **Fetch Top Tracks**:\n",
    "#    - Write a function named `get_top_tracks`.\n",
    "#    - This function should accept an artist's name and return the name of the first 5 top tracks by that artist.\n",
    "#    - Use the function `get_top_tracks` to get the first 5 top tracks for each artist in your `artists` list and store the results in a new list named `top_tracks_list`.\n",
    "\n",
    "#Option 1, create the function for 1 artist\n",
    "def get_top_tracks(artist_name):\n",
    "    results = sp.search(q=f'artist:{artist_name}', type='track', limit=5)\n",
    "    tracks = results['tracks']['items']\n",
    "    top_tracks = [track['name'] for track in tracks]\n",
    "    return top_tracks\n",
    "\n",
    "#and call the function each time for each artist of the list\n",
    "top_tracks_list = [get_top_tracks(artist) for artist in artists]\n",
    "\n",
    "top_tracks_list\n",
    "\n",
    "\n",
    "    "
   ]
  },
  {
   "cell_type": "code",
   "execution_count": null,
   "id": "0a6ade4f",
   "metadata": {},
   "outputs": [],
   "source": [
    "#Option 2, create a function that handles lists\n",
    "def get_top_tracks(artists):\n",
    "    \"\"\"\n",
    "    Fetches the top 5 tracks of each artist in the provided list of artists.\n",
    "    \n",
    "    Parameters:\n",
    "    artists (list): List of artist names\n",
    "    \n",
    "    Returns:\n",
    "    dict: A dictionary with artist names as keys and their top tracks (list of track names) as values\n",
    "    \"\"\"\n",
    "    artist_top_tracks = {}\n",
    "    \n",
    "    for artist_name in artists:\n",
    "        # Search for the artist by name\n",
    "        result = sp.search(q=artist_name, type='artist', limit=1)\n",
    "        \n",
    "        # Extract the artist's ID if the artist is found\n",
    "        if result['artists']['items']:\n",
    "            artist_id = result['artists']['items'][0]['id']\n",
    "            \n",
    "            # Fetch the top tracks using the artist ID\n",
    "            top_tracks = sp.artist_top_tracks(artist_id)\n",
    "            # Extract the track names\n",
    "            track_names = [track['name'] for track in top_tracks['tracks'][:5]]\n",
    "            artist_top_tracks[artist_name] = track_names\n",
    "        else:\n",
    "            # If the artist is not found, return an empty list for that artist\n",
    "            artist_top_tracks[artist_name] = []\n",
    "    \n",
    "    return artist_top_tracks\n",
    "\n",
    "# Fetch top tracks for the list of artists\n",
    "top_tracks_list = get_top_tracks(artists)\n",
    "\n",
    "# Print the result\n",
    "for artist, tracks in top_tracks_list.items():\n",
    "    print(f\"Top tracks for {artist}: {tracks}\")"
   ]
  },
  {
   "cell_type": "code",
   "execution_count": null,
   "id": "6e035162",
   "metadata": {},
   "outputs": [],
   "source": [
    "# 3. **Discover Related Artists**:\n",
    "#    - Write a function named `find_related_artists`.\n",
    "#    - This function should accept an artist's name and return the names of the first 5 artists related to the provided artist.\n",
    "#    - Store the results in a list named `related_artists_list`."
   ]
  },
  {
   "cell_type": "code",
   "execution_count": null,
   "id": "5acf6c2b",
   "metadata": {},
   "outputs": [],
   "source": [
    "#Option 1:\n",
    "#Function handle 1 artist and we use a for loop to call the function multiple times\n",
    "\n",
    "def find_related_artists(artist_name):\n",
    "    # Step 1: Search for the artist and get the artist ID\n",
    "    result = sp.search(q=artist_name, type='artist', limit=1)\n",
    "    artist_id = result['artists']['items'][0]['id']\n",
    "    \n",
    "    # Step 2: Get related artists using the artist ID\n",
    "    related_artists_result = sp.artist_related_artists(artist_id)\n",
    "    \n",
    "    # Step 3: Extract the names of the first 5 related artists\n",
    "    related_artists = [artist['name'] for artist in related_artists_result['artists'][:5]]\n",
    "    \n",
    "    return related_artists\n",
    "\n",
    "# Test with a single artist\n",
    "artist_name = \"Manu Chao\"\n",
    "related_artists = find_related_artists(artist_name)\n",
    "print(f\"Related artists for {artist_name}: {related_artists}\")\n",
    "\n",
    "# Example list of favorite artists\n",
    "artists = [\"Los Fabulosos Cadillacs\", \"Manu Chao\", \"Muchachito Bombo Infierno\"]\n",
    "\n",
    "# Create an empty list to store related artists\n",
    "related_artists_list = []\n",
    "\n",
    "# Loop through each artist and find related artists\n",
    "for artist in artists:\n",
    "    related_artists_list.append({artist: find_related_artists(artist)})\n",
    "\n",
    "# Print the related artists list for all favorite artists\n",
    "related_artists_list\n"
   ]
  },
  {
   "cell_type": "code",
   "execution_count": null,
   "id": "3ebd75cf",
   "metadata": {},
   "outputs": [],
   "source": [
    "#Option 2: The function handle the list with the for loop inside of it\n",
    "def find_related_artists(artist_names):\n",
    "    # Dictionary to store the related artists for each artist in the list\n",
    "    related_artists_dict = {}\n",
    "    \n",
    "    # Loop through each artist in the list\n",
    "    for artist_name in artist_names:\n",
    "        # Step 1: Search for the artist and get the artist ID\n",
    "        result = sp.search(q=artist_name, type='artist', limit=1)\n",
    "        \n",
    "        # Check if the artist was found\n",
    "        if result['artists']['items']:\n",
    "            artist_id = result['artists']['items'][0]['id']\n",
    "            \n",
    "            # Step 2: Get related artists using the artist ID\n",
    "            related_artists_result = sp.artist_related_artists(artist_id)\n",
    "            \n",
    "            # Step 3: Extract the names of the first 5 related artists\n",
    "            related_artists = [artist['name'] for artist in related_artists_result['artists'][:5]]\n",
    "            \n",
    "            # Store the related artists in the dictionary\n",
    "            related_artists_dict[artist_name] = related_artists\n",
    "        else:\n",
    "            # If artist is not found, return an empty list for that artist\n",
    "            related_artists_dict[artist_name] = []\n",
    "    \n",
    "    return related_artists_dict\n",
    "\n",
    "# Example list of favorite artists\n",
    "artists = [\"Los Fabulosos Cadillacs\", \"Manu Chao\", \"Muchachito Bombo Infierno\"]\n",
    "\n",
    "# Get related artists for the list of favorite artists\n",
    "related_artists_list = find_related_artists(artists)\n",
    "\n",
    "# Print the related artists for each artist\n",
    "related_artists_list\n"
   ]
  },
  {
   "cell_type": "code",
   "execution_count": null,
   "id": "e8729af3",
   "metadata": {},
   "outputs": [],
   "source": [
    "# **Challenge:** \n",
    "# Combine the above steps to create a playlist that includes the top tracks of your favorite artists and the top tracks of the artists related to them.\n",
    "\n",
    "# Function to create a playlist combining top tracks of your favorite artists and their related artists\n",
    "def create_combined_playlist(favorite_artists):\n",
    "    # Step 1: Get top tracks for your favorite artists\n",
    "    playlist = []\n",
    "    for artist in favorite_artists:\n",
    "        top_tracks = get_top_tracks(artist)\n",
    "        # Append artist name next to each track\n",
    "        playlist.extend([(track, artist) for track in top_tracks])\n",
    "    \n",
    "    # Step 2: Find related artists for each favorite artist\n",
    "    related_artists_dict = find_related_artists(favorite_artists)\n",
    "    \n",
    "    # Step 3: Get top tracks of the related artists\n",
    "    for related_artists in related_artists_dict.values():\n",
    "        for related_artist in related_artists:\n",
    "            top_tracks_related = get_top_tracks(related_artist)\n",
    "            # Append related artist's name next to each track\n",
    "            playlist.extend([(track, related_artist) for track in top_tracks_related])\n",
    "\n",
    "    return playlist\n",
    "\n",
    "# Example list of favorite artists\n",
    "artists = [\"Maluma\", \"Lady Gaga\", \"Marc Anthony\"]\n",
    "\n",
    "# Generate the combined playlist\n",
    "final_playlist = create_combined_playlist(artists)\n",
    "\n",
    "# Display the final playlist with artist names\n",
    "for i, (track, artist) in enumerate(final_playlist, 1):\n",
    "    # Since we're appending both track and artist together, this will work correctly\n",
    "    print(f\"{i}. {track} - {artist}\")"
   ]
  },
  {
   "cell_type": "markdown",
   "id": "94ad5fdc-22e5-4521-8aa1-c6833eb7e949",
   "metadata": {},
   "source": [
    "## Playlists\n",
    "\n",
    "The `sp.featured_playlists()` method in `spotipy` fetches a list of Spotify's featured playlists at a given moment. These are curated playlists that Spotify often highlights on the platform's homepage. The method provides a snapshot of the playlists that are being promoted or featured by Spotify at the time of the request.\n",
    "\n",
    "Once you've fetched the featured playlists, you can extract their IDs (and other details)."
   ]
  },
  {
   "cell_type": "code",
   "execution_count": null,
   "id": "25fb0cf8-c13a-41b0-b8f8-7e0700fd1e41",
   "metadata": {},
   "outputs": [],
   "source": [
    "sp.featured_playlists() # We get a playlist id of a playlist we like"
   ]
  },
  {
   "cell_type": "markdown",
   "id": "90f558f3-c638-4df4-b5a4-e24f7847d52a",
   "metadata": {},
   "source": [
    "### Getting a Playlist's Details\n",
    "To fetch details about a specific playlist, you can use the playlist method. You'll need the playlist's Spotify ID."
   ]
  },
  {
   "cell_type": "markdown",
   "id": "0eef529f-617f-4ea3-8156-07472ac8e6d5",
   "metadata": {},
   "source": [
    "In this example, we will use the following playlist id: *37i9dQZF1DXd9zR7tdziuQ*"
   ]
  },
  {
   "cell_type": "code",
   "execution_count": 96,
   "id": "46d35121-9256-4cf4-81f5-118b87f7af32",
   "metadata": {},
   "outputs": [],
   "source": [
    "playlist_id = \"37i9dQZF1DXd9zR7tdziuQ\"\n",
    "playlist = sp.playlist(playlist_id)"
   ]
  },
  {
   "cell_type": "code",
   "execution_count": null,
   "id": "5260f67f-6024-4fee-8449-30904f03bf76",
   "metadata": {},
   "outputs": [],
   "source": [
    "print(playlist['name'])  # Print the playlist's name\n",
    "print(playlist['description'])  # Print the playlist's description"
   ]
  },
  {
   "cell_type": "markdown",
   "id": "13bc8631-69f0-4b98-9cc9-5baecbaea9ba",
   "metadata": {},
   "source": [
    "### Getting Tracks from a Playlist\n",
    "If you want to get the tracks from a specific playlist, you can use the playlist_tracks method."
   ]
  },
  {
   "cell_type": "code",
   "execution_count": null,
   "id": "69c78f8d-7e6a-4d15-bcbb-fc93edb82433",
   "metadata": {},
   "outputs": [],
   "source": [
    "tracks = sp.playlist_tracks(playlist_id)\n",
    "for track in tracks['items']:\n",
    "    print(track['track']['name'])  # Print each track's name"
   ]
  },
  {
   "cell_type": "markdown",
   "id": "2775714d-acc7-4555-96bd-2c541ab0855e",
   "metadata": {},
   "source": [
    "### Getting Artists from a Playlist\n",
    "\n",
    "To extract all the artists from the tracks in a playlist, you'd typically follow these steps:\n",
    "\n",
    "1. Fetch the playlist's tracks.\n",
    "2. Iterate through each track.\n",
    "3. For each track, extract the associated artists."
   ]
  },
  {
   "cell_type": "code",
   "execution_count": null,
   "id": "65c5e5c4-f186-42c6-b136-4ef02b0b01ff",
   "metadata": {},
   "outputs": [],
   "source": [
    "# List to store unique artist names\n",
    "artists_list = []\n",
    "\n",
    "for track_item in tracks['items']:\n",
    "    track = track_item['track']\n",
    "    for artist in track['artists']:\n",
    "        artist_name = artist['name']\n",
    "        if artist_name not in artists_list:  # This ensures each artist is added only once\n",
    "            artists_list.append(artist_name)\n",
    "\n",
    "print(artists_list)"
   ]
  },
  {
   "cell_type": "markdown",
   "id": "7b52207e-a4f0-4f90-9f4e-3170d7f0f3fe",
   "metadata": {},
   "source": [
    "## Exercise 2: Unraveling the World of Playlists\n",
    "\n",
    "\n",
    "1. **Featured Exploration**: \n",
    "   - Fetch the list of Spotify's current featured playlists. \n",
    "   - Extract and display the names and IDs of the top 5 featured playlists.\n",
    "   \n",
    "2. **Deep Dive**:\n",
    "   - Choose any one of the top 5 featured playlists (you can choose the one you personally find most interesting or simply pick one randomly).\n",
    "   - Fetch and display its name, description, and total track count.\n",
    "\n",
    "3. **Track-tastic**:\n",
    "   - Extract and display the names of the first 10 tracks in the chosen playlist.\n",
    "\n",
    "4. **Artistic Flair**:\n",
    "   - Create a dictionary where the keys are the names of the first 10 tracks, and the values are lists containing the names of the artists associated with each track.\n",
    "   - For example: `{\"TrackName1\": [\"Artist1\", \"Artist2\"], \"TrackName2\": [\"Artist3\"]}`\n",
    "   "
   ]
  },
  {
   "cell_type": "code",
   "execution_count": 105,
   "id": "ed92d961-9646-4375-a386-ccc320a958f5",
   "metadata": {},
   "outputs": [
    {
     "name": "stdout",
     "output_type": "stream",
     "text": [
      "Top 5 Featured Playlists:\n",
      "1. Éxitos España (ID: 37i9dQZF1DXaxEKcoCdWHD)\n",
      "2. PEGAO (ID: 37i9dQZF1DX1HCSfq0nSal)\n",
      "3. Viral España 2024 (ID: 37i9dQZF1DWVJv1UsWItkB)\n",
      "4. Viva Latino (ID: 37i9dQZF1DX10zKzsJ2jva)\n",
      "5. Pop con Ñ (ID: 37i9dQZF1DX3sCT1ItXgNd)\n",
      "\n",
      "Playlist Name: Pop con Ñ\n",
      "Description: Lo mejor del pop en español. Foto: Kapo, Manuel Turizo\n",
      "Total Tracks: 45\n",
      "\n",
      "First 10 Tracks:\n",
      "1. Qué Pecao\n",
      "2. UWAIE\n",
      "3. Soltera\n",
      "4. Orion\n",
      "5. Hola, qué tal?\n",
      "6. Hasta Aquí Llegué\n",
      "7. Para qué me escribes\n",
      "8. CARITA TRISTE\n",
      "9. Recién Soltera\n",
      "10. Ohnana\n",
      "\n",
      "Track-Artist Dictionary:\n",
      "Qué Pecao: ['Manuel Turizo', 'Kapo']\n",
      "UWAIE: ['Kapo']\n",
      "Soltera: ['Shakira']\n",
      "Orion: ['Boza', 'ELENA ROSE']\n",
      "Hola, qué tal?: ['Beret']\n",
      "Hasta Aquí Llegué: ['Nanpa Básico', 'Beéle']\n",
      "Para qué me escribes: ['Hermanos Martínez']\n",
      "CARITA TRISTE: ['Ana Mena', 'Emilia']\n",
      "Recién Soltera: ['Paulo Londra']\n",
      "Ohnana: ['Kapo']\n"
     ]
    }
   ],
   "source": [
    "# Your answer here\n",
    "\n",
    "# Step 1: Fetch the list of Spotify's current featured playlists\n",
    "def fetch_featured_playlists():\n",
    "    featured_playlists = sp.featured_playlists(limit=5)\n",
    "    top_playlists = [(playlist['name'], playlist['id']) for playlist in featured_playlists['playlists']['items']]\n",
    "    return top_playlists\n",
    "\n",
    "# Step 2: Fetch details of a specific playlist (name, description, total track count)\n",
    "def get_playlist_details(playlist_id):\n",
    "    playlist = sp.playlist(playlist_id)\n",
    "    return playlist['name'], playlist['description'], playlist['tracks']['total']\n",
    "\n",
    "# Step 3: Get the names of the first 10 tracks from the chosen playlist\n",
    "def get_first_10_tracks(playlist_id):\n",
    "    tracks_data = sp.playlist_tracks(playlist_id, limit=10)\n",
    "    return [track['track']['name'] for track in tracks_data['items']]\n",
    "\n",
    "# Step 4: Create a dictionary with track names and associated artist names\n",
    "def create_track_artist_dict(playlist_id):\n",
    "    tracks_data = sp.playlist_tracks(playlist_id, limit=10)\n",
    "    track_artist_dict = {}\n",
    "    for item in tracks_data['items']:\n",
    "        track_name = item['track']['name']\n",
    "        artist_names = [artist['name'] for artist in item['track']['artists']]\n",
    "        track_artist_dict[track_name] = artist_names\n",
    "    return track_artist_dict\n",
    "\n",
    "# Fetch top 5 featured playlists\n",
    "top_playlists = fetch_featured_playlists()\n",
    "\n",
    "# Display top 5 featured playlists\n",
    "print(\"Top 5 Featured Playlists:\")\n",
    "for i, (name, playlist_id) in enumerate(top_playlists, 1):\n",
    "    print(f\"{i}. {name} (ID: {playlist_id})\")\n",
    "\n",
    "# Select the last playlist from the list\n",
    "chosen_playlist_id = top_playlists[4][1]\n",
    "\n",
    "# Fetch and display playlist details\n",
    "playlist_name, playlist_description, total_tracks = get_playlist_details(chosen_playlist_id)\n",
    "print(f\"\\nPlaylist Name: {playlist_name}\")\n",
    "print(f\"Description: {playlist_description}\")\n",
    "print(f\"Total Tracks: {total_tracks}\")\n",
    "\n",
    "# Fetch and display the first 10 tracks\n",
    "first_10_tracks = get_first_10_tracks(chosen_playlist_id)\n",
    "print(\"\\nFirst 10 Tracks:\")\n",
    "for i, track in enumerate(first_10_tracks, 1):\n",
    "    print(f\"{i}. {track}\")\n",
    "\n",
    "# Create and display the track-artist dictionary\n",
    "track_artist_dict = create_track_artist_dict(chosen_playlist_id)\n",
    "print(\"\\nTrack-Artist Dictionary:\")\n",
    "for track, artists in track_artist_dict.items():\n",
    "    print(f\"{track}: {artists}\")\n"
   ]
  }
 ],
 "metadata": {
  "kernelspec": {
   "display_name": "Python 3",
   "language": "python",
   "name": "python3"
  },
  "language_info": {
   "codemirror_mode": {
    "name": "ipython",
    "version": 3
   },
   "file_extension": ".py",
   "mimetype": "text/x-python",
   "name": "python",
   "nbconvert_exporter": "python",
   "pygments_lexer": "ipython3",
   "version": "3.12.6"
  }
 },
 "nbformat": 4,
 "nbformat_minor": 5
}
